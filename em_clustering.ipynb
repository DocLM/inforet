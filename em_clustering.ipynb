{
 "cells": [
  {
   "cell_type": "markdown",
   "metadata": {},
   "source": [
    "# Expectation-Maximization Clustering\n",
    "\n",
    "### Maximization\n",
    "$$\n",
    "q_{mk} = \\frac{\\sum\\limits_{n=1}^{N} r_{nk}I(t_m \\in d_n)}{\\sum\\limits_{n=1}^{N}r_{nk}};\n",
    "\\alpha_{k} = \\frac{1}{N} \\sum\\limits_{n=1}^{N} r_{nk}\n",
    "$$\n",
    "\n",
    "### Expectation\n",
    "$$\n",
    "r_{nk} = \\frac{\\alpha_k\\left(\\prod_{t_m \\in d_n}q_{mk}\\right)\n",
    "\\left(\\prod_{t_m \\not\\in d_n}(1-q_{mk})\\right)}\n",
    "{\\sum\\limits_{k=1}^{K}\\alpha_k\\left(\\prod_{t_m \\in d_n}q_{mk}\\right)\n",
    "\\left(\\prod_{t_m \\not\\in d_n}(1-q_{mk})\\right)}\n",
    "$$\n",
    "\n",
    "### Example\n",
    "<table>\n",
    "    <tr>\n",
    "        <th>DocID</th>\n",
    "        <th>Tokens</th>\n",
    "        <th>Class</th>\n",
    "    </tr>\n",
    "    <tr>\n",
    "        <td>0</td>\n",
    "        <td>apple ios mac book fruit</td>\n",
    "        <td>A</td>\n",
    "    </tr>\n",
    "    <tr>\n",
    "        <td>1</td>\n",
    "        <td>apple mac book apple store fruit</td>\n",
    "        <td>A</td>\n",
    "    </tr>\n",
    "    <tr>\n",
    "        <td>2</td>\n",
    "        <td>microsoft ibm apple oracle</td>\n",
    "        <td>A</td>\n",
    "    </tr>\n",
    "    <tr>\n",
    "        <td>3</td>\n",
    "        <td>apple banana mango fruit</td>\n",
    "        <td>B</td>\n",
    "    </tr>\n",
    "    <tr>\n",
    "        <td>4</td>\n",
    "        <td>apple fruit</td>\n",
    "        <td>B</td>\n",
    "    </tr>\n",
    "</table>"
   ]
  },
  {
   "cell_type": "code",
   "execution_count": 8,
   "metadata": {},
   "outputs": [],
   "source": [
    "import numpy as np\n",
    "from IPython.core.display import display, HTML, Image\n",
    "\n",
    "docs = [\n",
    "    ['apple', 'ios', 'mac', 'book'],\n",
    "    ['apple', 'mac', 'book', 'apple', 'store'],\n",
    "    ['microsoft', 'ibm', 'apple', 'oracle'],\n",
    "    ['apple', 'banana', 'mango', 'fruit'],\n",
    "    ['apple', 'fruit', 'mango']\n",
    "]\n",
    "terms = list(set([x for y in docs for x in y]))\n",
    "M = np.array([[1 if x in y else 0 for x in terms] for y in docs])\n",
    "N, K, m = len(docs), 2, len(terms)\n",
    "A = np.zeros(K)\n",
    "Q = np.zeros((m, K))"
   ]
  },
  {
   "cell_type": "markdown",
   "metadata": {},
   "source": [
    "## Random init $r_{nk}$"
   ]
  },
  {
   "cell_type": "code",
   "execution_count": 9,
   "metadata": {},
   "outputs": [],
   "source": [
    "R = np.zeros((N, K))\n",
    "for doc in range(N):\n",
    "    a = np.random.uniform()\n",
    "    R[doc] = [a, 1-a]"
   ]
  },
  {
   "cell_type": "markdown",
   "metadata": {},
   "source": [
    "## Functions"
   ]
  },
  {
   "cell_type": "code",
   "execution_count": 10,
   "metadata": {},
   "outputs": [],
   "source": [
    "def maximization(K, R):\n",
    "    for k in range(K):\n",
    "        A[k] = R[:,k].sum() / N\n",
    "        for word in range(m):\n",
    "            sigma_doc = 0.0\n",
    "            for doc in range(N):\n",
    "                sigma_doc += R[doc,k] * M[doc,word]\n",
    "            Q[word][k] = sigma_doc / R[:,k].sum()"
   ]
  },
  {
   "cell_type": "code",
   "execution_count": 11,
   "metadata": {},
   "outputs": [],
   "source": [
    "def estimate(doc, k, Q, A):\n",
    "    q_doc = np.zeros(m)\n",
    "    for word in range(m):\n",
    "        if M[doc,word] > 0:\n",
    "            q_doc[word] = Q[word,k]\n",
    "        else:\n",
    "            q_doc[word] = 1 - Q[word,k]\n",
    "    return A[k] * q_doc.prod()\n",
    "    \n",
    "def expectation(K, Q, A):\n",
    "    for doc in range(N):\n",
    "        k_estimation = np.array([estimate(doc, k, Q, A) for k in range(K)])\n",
    "        for k in range(K):\n",
    "            R[doc][k] = k_estimation[k] / k_estimation.sum()"
   ]
  },
  {
   "cell_type": "code",
   "execution_count": 12,
   "metadata": {},
   "outputs": [],
   "source": [
    "def to_table(title, data, cols, rows):\n",
    "    header = \"<tr>\" + \"\".join([\"<th>{}</th>\".format(x) for x in [''] + cols]) + \"</tr>\"\n",
    "    trs = []\n",
    "    for i, c in enumerate(rows):\n",
    "        tr = \"<tr>\" + \"<td>{}</td>\".format(c)\n",
    "        tr += \"\".join([\"<td>{}</td>\".format(round(x, 3)) for x in data[i]])\n",
    "        tr += \"</tr>\"\n",
    "        trs.append(tr)\n",
    "    table = \"<h3>{}</h3><table>{}{}</table>\".format(\n",
    "        title,\n",
    "        header,\n",
    "        \"\".join(trs)\n",
    "    )\n",
    "    return table\n",
    "\n",
    "def show(r, q, a):\n",
    "    table = \"<table><tr><td style='vertical-align: top;'>{}</td><td style='vertical-align: top;'>{}</td><td style='vertical-align: top;'>{}</td></tr></table>\".format(\n",
    "        r, q, a\n",
    "    )\n",
    "    display(HTML(table))"
   ]
  },
  {
   "cell_type": "markdown",
   "metadata": {},
   "source": [
    "## Start"
   ]
  },
  {
   "cell_type": "code",
   "execution_count": 13,
   "metadata": {},
   "outputs": [
    {
     "data": {
      "text/html": [
       "<table><tr><td style='vertical-align: top;'><h3>$r_{nk}$</h3><table><tr><th></th><th>0</th><th>1</th></tr><tr><td>0</td><td>0.312</td><td>0.688</td></tr><tr><td>1</td><td>0.316</td><td>0.684</td></tr><tr><td>2</td><td>0.281</td><td>0.719</td></tr><tr><td>3</td><td>0.488</td><td>0.512</td></tr><tr><td>4</td><td>0.305</td><td>0.695</td></tr></table></td><td style='vertical-align: top;'><h3>$q_{mk}$</h3><table><tr><th></th><th>0</th><th>1</th></tr><tr><td>apple</td><td>0.0</td><td>0.0</td></tr><tr><td>fruit</td><td>0.0</td><td>0.0</td></tr><tr><td>ios</td><td>0.0</td><td>0.0</td></tr><tr><td>mango</td><td>0.0</td><td>0.0</td></tr><tr><td>banana</td><td>0.0</td><td>0.0</td></tr><tr><td>mac</td><td>0.0</td><td>0.0</td></tr><tr><td>book</td><td>0.0</td><td>0.0</td></tr><tr><td>oracle</td><td>0.0</td><td>0.0</td></tr><tr><td>microsoft</td><td>0.0</td><td>0.0</td></tr><tr><td>store</td><td>0.0</td><td>0.0</td></tr><tr><td>ibm</td><td>0.0</td><td>0.0</td></tr></table></td><td style='vertical-align: top;'><h3>$a_{k}$</h3><table><tr><th></th><th>0</th><th>1</th></tr><tr><td>priors</td><td>0.0</td><td>0.0</td></tr></table></td></tr></table>"
      ],
      "text/plain": [
       "<IPython.core.display.HTML object>"
      ]
     },
     "metadata": {},
     "output_type": "display_data"
    }
   ],
   "source": [
    "TR = to_table('$r_{nk}$', R, range(K), range(N))\n",
    "TQ = to_table('$q_{mk}$', Q, range(K), terms)\n",
    "TA = to_table('$a_{k}$', [A], range(K), ['priors'])\n",
    "show(TR, TQ, TA)"
   ]
  },
  {
   "cell_type": "markdown",
   "metadata": {},
   "source": [
    "## Iterate"
   ]
  },
  {
   "cell_type": "code",
   "execution_count": 14,
   "metadata": {},
   "outputs": [
    {
     "data": {
      "text/html": [
       "<h2>ITERATION 1</h2>"
      ],
      "text/plain": [
       "<IPython.core.display.HTML object>"
      ]
     },
     "metadata": {},
     "output_type": "display_data"
    },
    {
     "data": {
      "text/html": [
       "<table><tr><td style='vertical-align: top;'><h3>$r_{nk}$</h3><table><tr><th></th><th>0</th><th>1</th></tr><tr><td>0</td><td>0.211</td><td>0.789</td></tr><tr><td>1</td><td>0.215</td><td>0.785</td></tr><tr><td>2</td><td>0.142</td><td>0.858</td></tr><tr><td>3</td><td>0.699</td><td>0.301</td></tr><tr><td>4</td><td>0.515</td><td>0.485</td></tr></table></td><td style='vertical-align: top;'><h3>$q_{mk}$</h3><table><tr><th></th><th>0</th><th>1</th></tr><tr><td>apple</td><td>1.0</td><td>1.0</td></tr><tr><td>fruit</td><td>0.466</td><td>0.366</td></tr><tr><td>ios</td><td>0.183</td><td>0.209</td></tr><tr><td>mango</td><td>0.466</td><td>0.366</td></tr><tr><td>banana</td><td>0.287</td><td>0.155</td></tr><tr><td>mac</td><td>0.369</td><td>0.416</td></tr><tr><td>book</td><td>0.369</td><td>0.416</td></tr><tr><td>oracle</td><td>0.165</td><td>0.218</td></tr><tr><td>microsoft</td><td>0.165</td><td>0.218</td></tr><tr><td>store</td><td>0.186</td><td>0.207</td></tr><tr><td>ibm</td><td>0.165</td><td>0.218</td></tr></table></td><td style='vertical-align: top;'><h3>$a_{k}$</h3><table><tr><th></th><th>0</th><th>1</th></tr><tr><td>priors</td><td>0.34</td><td>0.66</td></tr></table></td></tr></table>"
      ],
      "text/plain": [
       "<IPython.core.display.HTML object>"
      ]
     },
     "metadata": {},
     "output_type": "display_data"
    },
    {
     "data": {
      "text/html": [
       "<h2>ITERATION 2</h2>"
      ],
      "text/plain": [
       "<IPython.core.display.HTML object>"
      ]
     },
     "metadata": {},
     "output_type": "display_data"
    },
    {
     "data": {
      "text/html": [
       "<table><tr><td style='vertical-align: top;'><h3>$r_{nk}$</h3><table><tr><th></th><th>0</th><th>1</th></tr><tr><td>0</td><td>0.017</td><td>0.983</td></tr><tr><td>1</td><td>0.018</td><td>0.982</td></tr><tr><td>2</td><td>0.005</td><td>0.995</td></tr><tr><td>3</td><td>0.991</td><td>0.009</td></tr><tr><td>4</td><td>0.945</td><td>0.055</td></tr></table></td><td style='vertical-align: top;'><h3>$q_{mk}$</h3><table><tr><th></th><th>0</th><th>1</th></tr><tr><td>apple</td><td>1.0</td><td>1.0</td></tr><tr><td>fruit</td><td>0.681</td><td>0.245</td></tr><tr><td>ios</td><td>0.118</td><td>0.245</td></tr><tr><td>mango</td><td>0.681</td><td>0.245</td></tr><tr><td>banana</td><td>0.392</td><td>0.094</td></tr><tr><td>mac</td><td>0.239</td><td>0.489</td></tr><tr><td>book</td><td>0.239</td><td>0.489</td></tr><tr><td>oracle</td><td>0.08</td><td>0.266</td></tr><tr><td>microsoft</td><td>0.08</td><td>0.266</td></tr><tr><td>store</td><td>0.121</td><td>0.244</td></tr><tr><td>ibm</td><td>0.08</td><td>0.266</td></tr></table></td><td style='vertical-align: top;'><h3>$a_{k}$</h3><table><tr><th></th><th>0</th><th>1</th></tr><tr><td>priors</td><td>0.356</td><td>0.644</td></tr></table></td></tr></table>"
      ],
      "text/plain": [
       "<IPython.core.display.HTML object>"
      ]
     },
     "metadata": {},
     "output_type": "display_data"
    },
    {
     "data": {
      "text/html": [
       "<h2>ITERATION 3</h2>"
      ],
      "text/plain": [
       "<IPython.core.display.HTML object>"
      ]
     },
     "metadata": {},
     "output_type": "display_data"
    },
    {
     "data": {
      "text/html": [
       "<table><tr><td style='vertical-align: top;'><h3>$r_{nk}$</h3><table><tr><th></th><th>0</th><th>1</th></tr><tr><td>0</td><td>0.0</td><td>1.0</td></tr><tr><td>1</td><td>0.0</td><td>1.0</td></tr><tr><td>2</td><td>0.0</td><td>1.0</td></tr><tr><td>3</td><td>1.0</td><td>0.0</td></tr><tr><td>4</td><td>1.0</td><td>0.0</td></tr></table></td><td style='vertical-align: top;'><h3>$q_{mk}$</h3><table><tr><th></th><th>0</th><th>1</th></tr><tr><td>apple</td><td>1.0</td><td>1.0</td></tr><tr><td>fruit</td><td>0.98</td><td>0.021</td></tr><tr><td>ios</td><td>0.009</td><td>0.325</td></tr><tr><td>mango</td><td>0.98</td><td>0.021</td></tr><tr><td>banana</td><td>0.501</td><td>0.003</td></tr><tr><td>mac</td><td>0.018</td><td>0.65</td></tr><tr><td>book</td><td>0.018</td><td>0.65</td></tr><tr><td>oracle</td><td>0.003</td><td>0.329</td></tr><tr><td>microsoft</td><td>0.003</td><td>0.329</td></tr><tr><td>store</td><td>0.009</td><td>0.325</td></tr><tr><td>ibm</td><td>0.003</td><td>0.329</td></tr></table></td><td style='vertical-align: top;'><h3>$a_{k}$</h3><table><tr><th></th><th>0</th><th>1</th></tr><tr><td>priors</td><td>0.395</td><td>0.605</td></tr></table></td></tr></table>"
      ],
      "text/plain": [
       "<IPython.core.display.HTML object>"
      ]
     },
     "metadata": {},
     "output_type": "display_data"
    },
    {
     "data": {
      "text/html": [
       "<h2>ITERATION 4</h2>"
      ],
      "text/plain": [
       "<IPython.core.display.HTML object>"
      ]
     },
     "metadata": {},
     "output_type": "display_data"
    },
    {
     "data": {
      "text/html": [
       "<table><tr><td style='vertical-align: top;'><h3>$r_{nk}$</h3><table><tr><th></th><th>0</th><th>1</th></tr><tr><td>0</td><td>0.0</td><td>1.0</td></tr><tr><td>1</td><td>0.0</td><td>1.0</td></tr><tr><td>2</td><td>0.0</td><td>1.0</td></tr><tr><td>3</td><td>1.0</td><td>0.0</td></tr><tr><td>4</td><td>1.0</td><td>0.0</td></tr></table></td><td style='vertical-align: top;'><h3>$q_{mk}$</h3><table><tr><th></th><th>0</th><th>1</th></tr><tr><td>apple</td><td>1.0</td><td>1.0</td></tr><tr><td>fruit</td><td>1.0</td><td>0.0</td></tr><tr><td>ios</td><td>0.0</td><td>0.333</td></tr><tr><td>mango</td><td>1.0</td><td>0.0</td></tr><tr><td>banana</td><td>0.5</td><td>0.0</td></tr><tr><td>mac</td><td>0.0</td><td>0.667</td></tr><tr><td>book</td><td>0.0</td><td>0.667</td></tr><tr><td>oracle</td><td>0.0</td><td>0.333</td></tr><tr><td>microsoft</td><td>0.0</td><td>0.333</td></tr><tr><td>store</td><td>0.0</td><td>0.333</td></tr><tr><td>ibm</td><td>0.0</td><td>0.333</td></tr></table></td><td style='vertical-align: top;'><h3>$a_{k}$</h3><table><tr><th></th><th>0</th><th>1</th></tr><tr><td>priors</td><td>0.4</td><td>0.6</td></tr></table></td></tr></table>"
      ],
      "text/plain": [
       "<IPython.core.display.HTML object>"
      ]
     },
     "metadata": {},
     "output_type": "display_data"
    },
    {
     "data": {
      "text/html": [
       "<h2>ITERATION 5</h2>"
      ],
      "text/plain": [
       "<IPython.core.display.HTML object>"
      ]
     },
     "metadata": {},
     "output_type": "display_data"
    },
    {
     "data": {
      "text/html": [
       "<table><tr><td style='vertical-align: top;'><h3>$r_{nk}$</h3><table><tr><th></th><th>0</th><th>1</th></tr><tr><td>0</td><td>0.0</td><td>1.0</td></tr><tr><td>1</td><td>0.0</td><td>1.0</td></tr><tr><td>2</td><td>0.0</td><td>1.0</td></tr><tr><td>3</td><td>1.0</td><td>0.0</td></tr><tr><td>4</td><td>1.0</td><td>0.0</td></tr></table></td><td style='vertical-align: top;'><h3>$q_{mk}$</h3><table><tr><th></th><th>0</th><th>1</th></tr><tr><td>apple</td><td>1.0</td><td>1.0</td></tr><tr><td>fruit</td><td>1.0</td><td>0.0</td></tr><tr><td>ios</td><td>0.0</td><td>0.333</td></tr><tr><td>mango</td><td>1.0</td><td>0.0</td></tr><tr><td>banana</td><td>0.5</td><td>0.0</td></tr><tr><td>mac</td><td>0.0</td><td>0.667</td></tr><tr><td>book</td><td>0.0</td><td>0.667</td></tr><tr><td>oracle</td><td>0.0</td><td>0.333</td></tr><tr><td>microsoft</td><td>0.0</td><td>0.333</td></tr><tr><td>store</td><td>0.0</td><td>0.333</td></tr><tr><td>ibm</td><td>0.0</td><td>0.333</td></tr></table></td><td style='vertical-align: top;'><h3>$a_{k}$</h3><table><tr><th></th><th>0</th><th>1</th></tr><tr><td>priors</td><td>0.4</td><td>0.6</td></tr></table></td></tr></table>"
      ],
      "text/plain": [
       "<IPython.core.display.HTML object>"
      ]
     },
     "metadata": {},
     "output_type": "display_data"
    },
    {
     "data": {
      "text/html": [
       "<h2>ITERATION 6</h2>"
      ],
      "text/plain": [
       "<IPython.core.display.HTML object>"
      ]
     },
     "metadata": {},
     "output_type": "display_data"
    },
    {
     "data": {
      "text/html": [
       "<table><tr><td style='vertical-align: top;'><h3>$r_{nk}$</h3><table><tr><th></th><th>0</th><th>1</th></tr><tr><td>0</td><td>0.0</td><td>1.0</td></tr><tr><td>1</td><td>0.0</td><td>1.0</td></tr><tr><td>2</td><td>0.0</td><td>1.0</td></tr><tr><td>3</td><td>1.0</td><td>0.0</td></tr><tr><td>4</td><td>1.0</td><td>0.0</td></tr></table></td><td style='vertical-align: top;'><h3>$q_{mk}$</h3><table><tr><th></th><th>0</th><th>1</th></tr><tr><td>apple</td><td>1.0</td><td>1.0</td></tr><tr><td>fruit</td><td>1.0</td><td>0.0</td></tr><tr><td>ios</td><td>0.0</td><td>0.333</td></tr><tr><td>mango</td><td>1.0</td><td>0.0</td></tr><tr><td>banana</td><td>0.5</td><td>0.0</td></tr><tr><td>mac</td><td>0.0</td><td>0.667</td></tr><tr><td>book</td><td>0.0</td><td>0.667</td></tr><tr><td>oracle</td><td>0.0</td><td>0.333</td></tr><tr><td>microsoft</td><td>0.0</td><td>0.333</td></tr><tr><td>store</td><td>0.0</td><td>0.333</td></tr><tr><td>ibm</td><td>0.0</td><td>0.333</td></tr></table></td><td style='vertical-align: top;'><h3>$a_{k}$</h3><table><tr><th></th><th>0</th><th>1</th></tr><tr><td>priors</td><td>0.4</td><td>0.6</td></tr></table></td></tr></table>"
      ],
      "text/plain": [
       "<IPython.core.display.HTML object>"
      ]
     },
     "metadata": {},
     "output_type": "display_data"
    },
    {
     "data": {
      "text/html": [
       "<h2>ITERATION 7</h2>"
      ],
      "text/plain": [
       "<IPython.core.display.HTML object>"
      ]
     },
     "metadata": {},
     "output_type": "display_data"
    },
    {
     "data": {
      "text/html": [
       "<table><tr><td style='vertical-align: top;'><h3>$r_{nk}$</h3><table><tr><th></th><th>0</th><th>1</th></tr><tr><td>0</td><td>0.0</td><td>1.0</td></tr><tr><td>1</td><td>0.0</td><td>1.0</td></tr><tr><td>2</td><td>0.0</td><td>1.0</td></tr><tr><td>3</td><td>1.0</td><td>0.0</td></tr><tr><td>4</td><td>1.0</td><td>0.0</td></tr></table></td><td style='vertical-align: top;'><h3>$q_{mk}$</h3><table><tr><th></th><th>0</th><th>1</th></tr><tr><td>apple</td><td>1.0</td><td>1.0</td></tr><tr><td>fruit</td><td>1.0</td><td>0.0</td></tr><tr><td>ios</td><td>0.0</td><td>0.333</td></tr><tr><td>mango</td><td>1.0</td><td>0.0</td></tr><tr><td>banana</td><td>0.5</td><td>0.0</td></tr><tr><td>mac</td><td>0.0</td><td>0.667</td></tr><tr><td>book</td><td>0.0</td><td>0.667</td></tr><tr><td>oracle</td><td>0.0</td><td>0.333</td></tr><tr><td>microsoft</td><td>0.0</td><td>0.333</td></tr><tr><td>store</td><td>0.0</td><td>0.333</td></tr><tr><td>ibm</td><td>0.0</td><td>0.333</td></tr></table></td><td style='vertical-align: top;'><h3>$a_{k}$</h3><table><tr><th></th><th>0</th><th>1</th></tr><tr><td>priors</td><td>0.4</td><td>0.6</td></tr></table></td></tr></table>"
      ],
      "text/plain": [
       "<IPython.core.display.HTML object>"
      ]
     },
     "metadata": {},
     "output_type": "display_data"
    },
    {
     "data": {
      "text/html": [
       "<h2>ITERATION 8</h2>"
      ],
      "text/plain": [
       "<IPython.core.display.HTML object>"
      ]
     },
     "metadata": {},
     "output_type": "display_data"
    },
    {
     "data": {
      "text/html": [
       "<table><tr><td style='vertical-align: top;'><h3>$r_{nk}$</h3><table><tr><th></th><th>0</th><th>1</th></tr><tr><td>0</td><td>0.0</td><td>1.0</td></tr><tr><td>1</td><td>0.0</td><td>1.0</td></tr><tr><td>2</td><td>0.0</td><td>1.0</td></tr><tr><td>3</td><td>1.0</td><td>0.0</td></tr><tr><td>4</td><td>1.0</td><td>0.0</td></tr></table></td><td style='vertical-align: top;'><h3>$q_{mk}$</h3><table><tr><th></th><th>0</th><th>1</th></tr><tr><td>apple</td><td>1.0</td><td>1.0</td></tr><tr><td>fruit</td><td>1.0</td><td>0.0</td></tr><tr><td>ios</td><td>0.0</td><td>0.333</td></tr><tr><td>mango</td><td>1.0</td><td>0.0</td></tr><tr><td>banana</td><td>0.5</td><td>0.0</td></tr><tr><td>mac</td><td>0.0</td><td>0.667</td></tr><tr><td>book</td><td>0.0</td><td>0.667</td></tr><tr><td>oracle</td><td>0.0</td><td>0.333</td></tr><tr><td>microsoft</td><td>0.0</td><td>0.333</td></tr><tr><td>store</td><td>0.0</td><td>0.333</td></tr><tr><td>ibm</td><td>0.0</td><td>0.333</td></tr></table></td><td style='vertical-align: top;'><h3>$a_{k}$</h3><table><tr><th></th><th>0</th><th>1</th></tr><tr><td>priors</td><td>0.4</td><td>0.6</td></tr></table></td></tr></table>"
      ],
      "text/plain": [
       "<IPython.core.display.HTML object>"
      ]
     },
     "metadata": {},
     "output_type": "display_data"
    },
    {
     "data": {
      "text/html": [
       "<h2>ITERATION 9</h2>"
      ],
      "text/plain": [
       "<IPython.core.display.HTML object>"
      ]
     },
     "metadata": {},
     "output_type": "display_data"
    },
    {
     "data": {
      "text/html": [
       "<table><tr><td style='vertical-align: top;'><h3>$r_{nk}$</h3><table><tr><th></th><th>0</th><th>1</th></tr><tr><td>0</td><td>0.0</td><td>1.0</td></tr><tr><td>1</td><td>0.0</td><td>1.0</td></tr><tr><td>2</td><td>0.0</td><td>1.0</td></tr><tr><td>3</td><td>1.0</td><td>0.0</td></tr><tr><td>4</td><td>1.0</td><td>0.0</td></tr></table></td><td style='vertical-align: top;'><h3>$q_{mk}$</h3><table><tr><th></th><th>0</th><th>1</th></tr><tr><td>apple</td><td>1.0</td><td>1.0</td></tr><tr><td>fruit</td><td>1.0</td><td>0.0</td></tr><tr><td>ios</td><td>0.0</td><td>0.333</td></tr><tr><td>mango</td><td>1.0</td><td>0.0</td></tr><tr><td>banana</td><td>0.5</td><td>0.0</td></tr><tr><td>mac</td><td>0.0</td><td>0.667</td></tr><tr><td>book</td><td>0.0</td><td>0.667</td></tr><tr><td>oracle</td><td>0.0</td><td>0.333</td></tr><tr><td>microsoft</td><td>0.0</td><td>0.333</td></tr><tr><td>store</td><td>0.0</td><td>0.333</td></tr><tr><td>ibm</td><td>0.0</td><td>0.333</td></tr></table></td><td style='vertical-align: top;'><h3>$a_{k}$</h3><table><tr><th></th><th>0</th><th>1</th></tr><tr><td>priors</td><td>0.4</td><td>0.6</td></tr></table></td></tr></table>"
      ],
      "text/plain": [
       "<IPython.core.display.HTML object>"
      ]
     },
     "metadata": {},
     "output_type": "display_data"
    },
    {
     "data": {
      "text/html": [
       "<h2>ITERATION 10</h2>"
      ],
      "text/plain": [
       "<IPython.core.display.HTML object>"
      ]
     },
     "metadata": {},
     "output_type": "display_data"
    },
    {
     "data": {
      "text/html": [
       "<table><tr><td style='vertical-align: top;'><h3>$r_{nk}$</h3><table><tr><th></th><th>0</th><th>1</th></tr><tr><td>0</td><td>0.0</td><td>1.0</td></tr><tr><td>1</td><td>0.0</td><td>1.0</td></tr><tr><td>2</td><td>0.0</td><td>1.0</td></tr><tr><td>3</td><td>1.0</td><td>0.0</td></tr><tr><td>4</td><td>1.0</td><td>0.0</td></tr></table></td><td style='vertical-align: top;'><h3>$q_{mk}$</h3><table><tr><th></th><th>0</th><th>1</th></tr><tr><td>apple</td><td>1.0</td><td>1.0</td></tr><tr><td>fruit</td><td>1.0</td><td>0.0</td></tr><tr><td>ios</td><td>0.0</td><td>0.333</td></tr><tr><td>mango</td><td>1.0</td><td>0.0</td></tr><tr><td>banana</td><td>0.5</td><td>0.0</td></tr><tr><td>mac</td><td>0.0</td><td>0.667</td></tr><tr><td>book</td><td>0.0</td><td>0.667</td></tr><tr><td>oracle</td><td>0.0</td><td>0.333</td></tr><tr><td>microsoft</td><td>0.0</td><td>0.333</td></tr><tr><td>store</td><td>0.0</td><td>0.333</td></tr><tr><td>ibm</td><td>0.0</td><td>0.333</td></tr></table></td><td style='vertical-align: top;'><h3>$a_{k}$</h3><table><tr><th></th><th>0</th><th>1</th></tr><tr><td>priors</td><td>0.4</td><td>0.6</td></tr></table></td></tr></table>"
      ],
      "text/plain": [
       "<IPython.core.display.HTML object>"
      ]
     },
     "metadata": {},
     "output_type": "display_data"
    }
   ],
   "source": [
    "for iteration in range(10):\n",
    "    maximization(K, R)\n",
    "    expectation(K, Q, A)\n",
    "    TR = to_table('$r_{nk}$', R, range(K), range(N))\n",
    "    TQ = to_table('$q_{mk}$', Q, range(K), terms)\n",
    "    TA = to_table('$a_{k}$', [A], range(K), ['priors'])\n",
    "    display(HTML(\"<h2>ITERATION {}</h2>\".format(iteration+1)))\n",
    "    show(TR, TQ, TA)"
   ]
  },
  {
   "cell_type": "code",
   "execution_count": null,
   "metadata": {},
   "outputs": [],
   "source": []
  }
 ],
 "metadata": {
  "kernelspec": {
   "display_name": "Python 2",
   "language": "python",
   "name": "python2"
  },
  "language_info": {
   "codemirror_mode": {
    "name": "ipython",
    "version": 2
   },
   "file_extension": ".py",
   "mimetype": "text/x-python",
   "name": "python",
   "nbconvert_exporter": "python",
   "pygments_lexer": "ipython2",
   "version": "2.7.14"
  }
 },
 "nbformat": 4,
 "nbformat_minor": 2
}
