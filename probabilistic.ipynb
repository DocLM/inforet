{
 "cells": [
  {
   "cell_type": "code",
   "execution_count": 1,
   "metadata": {},
   "outputs": [
    {
     "name": "stdout",
     "output_type": "stream",
     "text": [
      "importing Jupyter notebook from languagemodels.ipynb\n"
     ]
    }
   ],
   "source": [
    "import nbimporter\n",
    "from languagemodels import BiGram, HMM, ProbabilisticRetrieval\n",
    "import os\n",
    "import codecs\n",
    "import numpy as np"
   ]
  },
  {
   "cell_type": "code",
   "execution_count": 2,
   "metadata": {},
   "outputs": [],
   "source": [
    "def documents(folder):\n",
    "    for f in os.listdir(folder):\n",
    "        if f.endswith('.txt'):\n",
    "            with codecs.open(os.sep.join([brat, f]), \n",
    "                           'rb', encoding='utf-8') as df:\n",
    "                text = df.read()\n",
    "                yield text"
   ]
  },
  {
   "cell_type": "markdown",
   "metadata": {},
   "source": [
    "# Probabilistic query and generation of text"
   ]
  },
  {
   "cell_type": "markdown",
   "metadata": {},
   "source": [
    "## Bi-gram modeling"
   ]
  },
  {
   "cell_type": "code",
   "execution_count": null,
   "metadata": {},
   "outputs": [],
   "source": [
    "bg = BiGram(BiGram._get_string)"
   ]
  },
  {
   "cell_type": "code",
   "execution_count": null,
   "metadata": {},
   "outputs": [],
   "source": [
    "brat = 'data/brat/'"
   ]
  },
  {
   "cell_type": "code",
   "execution_count": null,
   "metadata": {},
   "outputs": [],
   "source": [
    "for text in documents(brat):\n",
    "    bg.add(text)"
   ]
  },
  {
   "cell_type": "code",
   "execution_count": null,
   "metadata": {},
   "outputs": [],
   "source": [
    "H = HMM(bg)"
   ]
  },
  {
   "cell_type": "markdown",
   "metadata": {},
   "source": [
    "### Text generation"
   ]
  },
  {
   "cell_type": "code",
   "execution_count": null,
   "metadata": {},
   "outputs": [],
   "source": [
    "print H.generate(length=20)"
   ]
  },
  {
   "cell_type": "code",
   "execution_count": null,
   "metadata": {},
   "outputs": [],
   "source": [
    "H2 = HMM(bg, min_occurrences=10)"
   ]
  },
  {
   "cell_type": "code",
   "execution_count": null,
   "metadata": {},
   "outputs": [],
   "source": [
    "print H.generate(length=20)"
   ]
  },
  {
   "cell_type": "markdown",
   "metadata": {},
   "source": [
    "### Text evaluation"
   ]
  },
  {
   "cell_type": "code",
   "execution_count": null,
   "metadata": {},
   "outputs": [],
   "source": [
    "test = '''this test text is about usage of \n",
    "probabilistic techniques in information retrieval'''"
   ]
  },
  {
   "cell_type": "code",
   "execution_count": null,
   "metadata": {},
   "outputs": [],
   "source": [
    "print H.evaluate(test)"
   ]
  },
  {
   "cell_type": "code",
   "execution_count": null,
   "metadata": {},
   "outputs": [],
   "source": [
    "test2 = '''this second text is about schools'''"
   ]
  },
  {
   "cell_type": "code",
   "execution_count": null,
   "metadata": {},
   "outputs": [],
   "source": [
    "print H.evaluate(test2)"
   ]
  },
  {
   "cell_type": "markdown",
   "metadata": {},
   "source": [
    "### Document retrieval"
   ]
  },
  {
   "cell_type": "code",
   "execution_count": 3,
   "metadata": {},
   "outputs": [],
   "source": [
    "P = ProbabilisticRetrieval()"
   ]
  },
  {
   "cell_type": "code",
   "execution_count": 4,
   "metadata": {},
   "outputs": [],
   "source": [
    "brat = 'data/brat/'"
   ]
  },
  {
   "cell_type": "code",
   "execution_count": 5,
   "metadata": {},
   "outputs": [],
   "source": [
    "P.indexing(documents(brat))"
   ]
  },
  {
   "cell_type": "code",
   "execution_count": 6,
   "metadata": {},
   "outputs": [],
   "source": [
    "results = P.search('cannabis')"
   ]
  },
  {
   "cell_type": "code",
   "execution_count": 7,
   "metadata": {},
   "outputs": [
    {
     "name": "stdout",
     "output_type": "stream",
     "text": [
      "4 -8.30461859145\n",
      "The Truth About Cannabis \n",
      "\n",
      "63 -20.5001222856\n",
      "Creative Artists \n",
      "\n",
      "52 -20.6179053213\n",
      "Do arts and music improve the quality of life? \n",
      "\n",
      "10 -20.8185760168\n",
      "GOVERNMENT AND EDUCATION \n",
      "\n",
      "21 -20.8185760168\n",
      "Benefits of students' unpaid work \n",
      "\n",
      "25 -20.8185760168\n",
      "museums and art galleries will disappear soon? \n",
      "\n",
      "17 -20.9055873937\n",
      "effects of globalization (decrease in global tension) \n",
      "\n",
      "29 -20.9055873937\n",
      "Paying more money is the only motivation to make employees work harder \n",
      "\n",
      "47 -20.9055873937\n",
      "pros and cons of developments in agriculture \n",
      "\n",
      "27 -20.9856301014\n",
      "should goverment control media crime \n",
      "\n",
      "39 -20.9856301014\n",
      "True Function of A University \n",
      "\n",
      "45 -20.9856301014\n",
      "teaching and researching working together lead to the success \n",
      "\n",
      "71 -20.9856301014\n",
      "International tourism is now more common than ever before \n",
      "\n",
      "73 -20.9856301014\n",
      "Using animals for the benefit of the human beings \n",
      "\n",
      "76 -20.9856301014\n",
      "Lessons with teachers versus others sources \n",
      "\n",
      "84 -20.9856301014\n",
      "International tourism is now more common than ever before \n",
      "\n",
      "88 -20.9856301014\n",
      "Computer replace  man power in jobs \n",
      "\n",
      "0 -21.0597380736\n",
      "Young people should go to university or not \n",
      "\n",
      "7 -21.0597380736\n",
      "Air pollution \n",
      "\n",
      "11 -21.0597380736\n",
      "computer has negative effects to children \n",
      "\n",
      "13 -21.0597380736\n",
      "Museums as a form of entertainment or education? \n",
      "\n",
      "35 -21.0597380736\n",
      "zoos should be built to protect rural animals \n",
      "\n",
      "48 -21.0597380736\n",
      "should governments be responsible to help the unemployed and homeless \n",
      "\n",
      "49 -21.0597380736\n",
      "distance-learning vs. attending school in person \n",
      "\n",
      "54 -21.0597380736\n",
      "Do modern communication technologies benefit all people \n",
      "\n",
      "60 -21.0597380736\n",
      "Government should be responsible for education and health care or not? \n",
      "\n",
      "81 -21.0597380736\n",
      "Living and studying overseas \n",
      "\n",
      "5 -21.1287309451\n",
      "High sales reflect Power of Advertising and not the Real Need \n",
      "\n",
      "16 -21.1287309451\n",
      "FINANCIAL AID TO DEVELOPING COUNTRIES \n",
      "\n",
      "20 -21.1287309451\n",
      "Nowadays there are more opportunities for women than there were in the past \n",
      "\n",
      "23 -21.1287309451\n",
      "Advertising - positive or negative part of our lives \n",
      "\n",
      "24 -21.1287309451\n",
      "The nuclear power provide clean and cheap energy \n",
      "\n",
      "40 -21.1287309451\n",
      "advantages and disadvantages of the prevalent of English \n",
      "\n",
      "66 -21.1287309451\n",
      "should all the advertisements be banned? \n",
      "\n",
      "69 -21.1287309451\n",
      "Growing traffic & pollution can be controlled by increasing petrol prices \n",
      "\n",
      "72 -21.1287309451\n",
      "Should rich countries help poor countries? \n",
      "\n",
      "79 -21.1287309451\n",
      "Do married women usually work? Why and why not? \n",
      "\n",
      "32 -21.1932694662\n",
      "Sporting events easing international tensions, releasing patriotic feelings \n",
      "\n",
      "41 -21.1932694662\n",
      "Government should make more effort to promote alternative sources of energy \n",
      "\n",
      "65 -21.1932694662\n",
      "government shouldn't put money on building theaters or sports stadiums \n",
      "\n",
      "1 -21.253894088\n",
      "Gun control  \n",
      "\n",
      "14 -21.253894088\n",
      "INFLUENCE OF LARGE FACTORY \n",
      "\n",
      "19 -21.253894088\n",
      "PREPARED FOOD \n",
      "\n",
      "31 -21.253894088\n",
      "Keeping animals in zoos \n",
      "\n",
      "55 -21.253894088\n",
      "zoos should be banned \n",
      "\n",
      "74 -21.253894088\n",
      "More people are migrating to other countries than ever before \n",
      "\n",
      "77 -21.253894088\n",
      "Should students be taught to compete or to cooperate? \n",
      "\n",
      "8 -21.3110525018\n",
      "Study at school or get a job? \n",
      "\n",
      "18 -21.3110525018\n",
      "Giving aid to poorer countries has more negative effects than positive effect \n",
      "\n",
      "34 -21.3110525018\n",
      "humans should be able to use animals for their own benefit? \n",
      "\n",
      "43 -21.3110525018\n",
      "economic development vs environment \n",
      "\n",
      "51 -21.3110525018\n",
      "Several languages are in danger of extinction \n",
      "\n",
      "62 -21.3110525018\n",
      "Technology keeps traditional skills and ways of life alive or not? \n",
      "\n",
      "64 -21.3110525018\n",
      "Is image more powerful than the written word? \n",
      "\n",
      "70 -21.3110525018\n",
      "Traditional games or modern games in developing children's skills \n",
      "\n",
      "82 -21.3110525018\n",
      "Why should human beings travel to outer space? \n",
      "\n",
      "83 -21.3110525018\n",
      "technology that widen the gap between rich and poor? \n",
      "\n",
      "89 -21.3110525018\n",
      "Will newspapers become a thing of the past? \n",
      "\n",
      "3 -21.3651197231\n",
      "Effects of mobile phones \n",
      "\n",
      "9 -21.3651197231\n",
      "Technology cannot solve all the world's problems! \n",
      "\n",
      "22 -21.3651197231\n",
      "should teenagers learn all school subjects/focus on one subject \n",
      "\n",
      "26 -21.3651197231\n",
      "Benefits of students doing extra jobs \n",
      "\n",
      "36 -21.3651197231\n",
      "Solve traffic and housing problems by moving companies to the rural areas? \n",
      "\n",
      "44 -21.3651197231\n",
      "Can petrol price increase impact on reducing traffic and pollution? \n",
      "\n",
      "46 -21.3651197231\n",
      "Government should spend money on ARTs, not only on public services \n",
      "\n",
      "75 -21.3651197231\n",
      "Society should ban all forms of the advertising \n",
      "\n",
      "78 -21.3651197231\n",
      "Email and text messaging threats written language \n",
      "\n",
      "28 -21.4164130175\n",
      "Influence of English - advantages outweigh the disadvantages \n",
      "\n",
      "42 -21.4164130175\n",
      "Should high school make music lessons compulsory \n",
      "\n",
      "6 -21.4652031817\n",
      "Advertisements affects on consumer goods \n",
      "\n",
      "15 -21.4652031817\n",
      "Alternative forms of transport to alleviate traffic congestion \n",
      "\n",
      "30 -21.4652031817\n",
      "Artists' freedom to express ideas \n",
      "\n",
      "59 -21.4652031817\n",
      "should universities accept equal number of males/females or not \n",
      "\n",
      "37 -21.5117231973\n",
      "Giving mobile phones to the unemployed \n",
      "\n",
      "56 -21.5117231973\n",
      "people will spend less time on cooking food \n",
      "\n",
      "61 -21.5117231973\n",
      "Those who use drugs should be automatically sentenced to time in prison \n",
      "\n",
      "2 -21.5561749599\n",
      "International sporting occasions help to ease international tensions \n",
      "\n",
      "12 -21.5561749599\n",
      "Gender Equality at university admission \n",
      "\n",
      "33 -21.5561749599\n",
      "creativity-should it be given freedom or restrictions \n",
      "\n",
      "38 -21.5987345743\n",
      "Use of CCTV cameras \n",
      "\n",
      "58 -21.5987345743\n",
      "Knowledge from experience is more important than that from books \n",
      "\n",
      "67 -21.5987345743\n",
      "capital punishment..necessary or not \n",
      "\n",
      "57 -21.6395565688\n",
      "Prefer to live in a small town rather than a city \n",
      "\n",
      "50 -21.678777282\n",
      "is a break good or bad after high school for students \n",
      "\n",
      "53 -21.7528852541\n",
      "computers..use,future prospects and over-dependence \n",
      "\n",
      "85 -21.7879765739\n",
      "The Non-Issue of Same Sex Marriage \n",
      "\n",
      "68 -21.8218781256\n",
      "competition or co-operation-which is better \n",
      "\n",
      "87 -21.8218781256\n",
      "Locker Checks \n",
      "\n",
      "86 -22.0842423901\n",
      "Why you should Exercise \n",
      "\n",
      "80 -22.5795638273\n",
      "Everyone Should Go Camping \n",
      "\n"
     ]
    }
   ],
   "source": [
    "for doc, p in results:\n",
    "    print doc, np.log(p)\n",
    "    print P.exerpt(doc), '\\n'"
   ]
  },
  {
   "cell_type": "code",
   "execution_count": null,
   "metadata": {},
   "outputs": [],
   "source": []
  }
 ],
 "metadata": {
  "kernelspec": {
   "display_name": "Python 2",
   "language": "python",
   "name": "python2"
  },
  "language_info": {
   "codemirror_mode": {
    "name": "ipython",
    "version": 2
   },
   "file_extension": ".py",
   "mimetype": "text/x-python",
   "name": "python",
   "nbconvert_exporter": "python",
   "pygments_lexer": "ipython2",
   "version": "2.7.14"
  }
 },
 "nbformat": 4,
 "nbformat_minor": 2
}
