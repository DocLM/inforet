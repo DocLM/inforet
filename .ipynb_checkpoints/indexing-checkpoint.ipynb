{
 "cells": [
  {
   "cell_type": "markdown",
   "metadata": {},
   "source": [
    "# Several implementations of tokenizers, text processing and indexing"
   ]
  },
  {
   "cell_type": "code",
   "execution_count": 1,
   "metadata": {},
   "outputs": [],
   "source": [
    "import nltk\n",
    "import pattern.en\n",
    "import pattern.it\n",
    "import langdetect as ld\n",
    "import string\n",
    "from collections import defaultdict, Counter\n",
    "from nltk.stem.snowball import SnowballStemmer\n",
    "import numpy as np"
   ]
  },
  {
   "cell_type": "code",
   "execution_count": null,
   "metadata": {},
   "outputs": [],
   "source": [
    "class Tokenizer(object):\n",
    "    \n",
    "    def __init__(self, preserve_case=True):\n",
    "        self.tweet = nltk.tokenize.TweetTokenizer(preserve_case=preserve_case)\n",
    "        self.lang_map = defaultdict(lambda: (SnowballStemmer('english'), pattern.en.parsetree))\n",
    "        self.lang_map['en'] = (SnowballStemmer('english'), pattern.en.parsetree)\n",
    "        self.lang_map['it'] = (SnowballStemmer('italian'), pattern.it.parsetree)\n",
    "    \n",
    "    @staticmethod\n",
    "    def lang(doc):\n",
    "        try:\n",
    "            lang = ld.detect(doc)\n",
    "        except Exception:\n",
    "            lang = 'en'\n",
    "        return lang\n",
    "    \n",
    "    @staticmethod\n",
    "    def remove_punctuation(tokens, special_chars=None):\n",
    "        p = string.punctuation\n",
    "        if special_chars is not None:\n",
    "            p += \"\".join(special_chars)\n",
    "        return [x for x in tokens if x not in p]\n",
    "    \n",
    "    def stemming(self, tokens):\n",
    "        lang = Tokenizer.lang(\" \".join(tokens))\n",
    "        stemmer = self.lang_map[lang][0]\n",
    "        stems = [stemmer.stem(t) for t in tokens]\n",
    "        return stems\n",
    "    \n",
    "    def tweet_tokenizer(self, doc):\n",
    "        return self.tweet.tokenize(doc)\n",
    "    \n",
    "    def pattern_processing(self, doc, lemmata=False):\n",
    "        p = self.lang_map[Tokenizer.lang(doc)][1]\n",
    "        tree = p(doc, lemmata=lemmata)\n",
    "        tokens, lemmata = [], []\n",
    "        for sentence in tree:\n",
    "            for word in sentence.words:\n",
    "                tokens.append(word.string)\n",
    "                lemmata.append(word.lemma)\n",
    "        return tokens, lemmata\n",
    "\n",
    "class MIndex(defaultdict):\n",
    "    \n",
    "    def __init__(self):\n",
    "        super(MIndex, self).__init__(lambda: [])\n",
    "        self.docs = set()\n",
    "    \n",
    "    def boolean(self, doc_id, tokens):\n",
    "        self.docs.add(doc_id)\n",
    "        for token in set(tokens):\n",
    "            self[token].append(doc_id)\n",
    "    \n",
    "    def boolean_to_matrix(self):\n",
    "        features = list(self.keys())\n",
    "        docs = list(self.docs)\n",
    "        M = np.zeros((len(docs), len(features)))\n",
    "        for token, posting in self.items():\n",
    "            for doc in posting:\n",
    "                ti, di = features.index(token), docs.index(doc)\n",
    "                M[di][ti] = 1\n",
    "        return M > 0, features, docs"
   ]
  }
 ],
 "metadata": {
  "kernelspec": {
   "display_name": "Python 2",
   "language": "python",
   "name": "python2"
  },
  "language_info": {
   "codemirror_mode": {
    "name": "ipython",
    "version": 2
   },
   "file_extension": ".py",
   "mimetype": "text/x-python",
   "name": "python",
   "nbconvert_exporter": "python",
   "pygments_lexer": "ipython2",
   "version": "2.7.14"
  }
 },
 "nbformat": 4,
 "nbformat_minor": 2
}
