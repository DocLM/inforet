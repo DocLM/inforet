{
 "cells": [
  {
   "cell_type": "markdown",
   "metadata": {},
   "source": [
    "# Naive demonstration of boolean retrieval"
   ]
  },
  {
   "cell_type": "code",
   "execution_count": 1,
   "metadata": {},
   "outputs": [
    {
     "name": "stdout",
     "output_type": "stream",
     "text": [
      "importing Jupyter notebook from corpora.ipynb\n",
      "importing Jupyter notebook from indexing.ipynb\n"
     ]
    }
   ],
   "source": [
    "import nbimporter\n",
    "from corpora import FileStream\n",
    "from indexing import Tokenizer, MIndex\n",
    "import numpy as np"
   ]
  },
  {
   "cell_type": "code",
   "execution_count": 2,
   "metadata": {},
   "outputs": [],
   "source": [
    "folder = 'data/wikisearch/brat_20'\n",
    "corpus = FileStream(folder, file_ext='txt')\n",
    "tokenizer = Tokenizer(preserve_case=False)\n",
    "B = MIndex()"
   ]
  },
  {
   "cell_type": "code",
   "execution_count": 3,
   "metadata": {},
   "outputs": [],
   "source": [
    "for doc_id in corpus.docs:\n",
    "    doc = corpus.doc(doc_id)\n",
    "    tokens = tokenizer.remove_punctuation(tokenizer.tweet_tokenizer(doc))\n",
    "    B.boolean(doc_id, tokens)"
   ]
  },
  {
   "cell_type": "markdown",
   "metadata": {},
   "source": [
    "## Using term-document matrix"
   ]
  },
  {
   "cell_type": "code",
   "execution_count": 4,
   "metadata": {},
   "outputs": [],
   "source": [
    "m, features, docs = B.boolean_to_matrix()"
   ]
  },
  {
   "cell_type": "code",
   "execution_count": 5,
   "metadata": {},
   "outputs": [],
   "source": [
    "school = m[:,features.index('school')]\n",
    "students = m[:,features.index('students')]"
   ]
  },
  {
   "cell_type": "code",
   "execution_count": 6,
   "metadata": {},
   "outputs": [],
   "source": [
    "a = np.logical_and(school, students)"
   ]
  },
  {
   "cell_type": "code",
   "execution_count": 7,
   "metadata": {},
   "outputs": [],
   "source": [
    "results = [docs[x] for x in np.where(a)[0]]"
   ]
  },
  {
   "cell_type": "markdown",
   "metadata": {},
   "source": [
    "# Evaluation"
   ]
  },
  {
   "cell_type": "code",
   "execution_count": 8,
   "metadata": {},
   "outputs": [],
   "source": [
    "import json"
   ]
  },
  {
   "cell_type": "code",
   "execution_count": 9,
   "metadata": {},
   "outputs": [],
   "source": [
    "with open(folder + '/queries.json', 'rU') as inj:\n",
    "    queries = json.load(inj)"
   ]
  },
  {
   "cell_type": "code",
   "execution_count": 10,
   "metadata": {},
   "outputs": [],
   "source": [
    "E = queries['10']['page_ids']\n",
    "Q = queries['10']['query']"
   ]
  },
  {
   "cell_type": "code",
   "execution_count": 11,
   "metadata": {},
   "outputs": [
    {
     "name": "stdout",
     "output_type": "stream",
     "text": [
      "government and education\n"
     ]
    }
   ],
   "source": [
    "print Q"
   ]
  },
  {
   "cell_type": "code",
   "execution_count": 12,
   "metadata": {},
   "outputs": [],
   "source": [
    "Qt = tokenizer.remove_punctuation(tokenizer.tweet_tokenizer(Q))\n",
    "Qt = [x for x in Qt if x != 'and']"
   ]
  },
  {
   "cell_type": "code",
   "execution_count": 13,
   "metadata": {},
   "outputs": [],
   "source": [
    "vectors = []\n",
    "for token in Qt:\n",
    "    v = m[:,features.index(token)]\n",
    "    vectors.append(v)"
   ]
  },
  {
   "cell_type": "code",
   "execution_count": 14,
   "metadata": {},
   "outputs": [],
   "source": [
    "vand = vectors[0]\n",
    "for x in vectors[1:]:\n",
    "    vand = np.logical_and(vand, x)\n",
    "vor = vectors[0]\n",
    "for x in vectors[1:]:\n",
    "    vor = np.logical_or(vor, x)"
   ]
  },
  {
   "cell_type": "code",
   "execution_count": 15,
   "metadata": {},
   "outputs": [],
   "source": [
    "Ra = [docs[x].replace('.txt', '') for x in np.where(vand)[0]]\n",
    "Ro = [docs[x].replace('.txt', '') for x in np.where(vor)[0]]"
   ]
  },
  {
   "cell_type": "code",
   "execution_count": 16,
   "metadata": {},
   "outputs": [],
   "source": [
    "def precision(R, T):\n",
    "    a = float(len([x for x in R if x in T]))\n",
    "    b = float(len(R))\n",
    "    try:\n",
    "        p = a / b\n",
    "    except ZeroDivisionError:\n",
    "        p = np.nan\n",
    "    return p\n",
    "\n",
    "def recall(R, T):\n",
    "    a = float(len([x for x in R if x in T]))\n",
    "    b = float(len(T))\n",
    "    try:\n",
    "        p = a / b\n",
    "    except ZeroDivisionError:\n",
    "        p = np.nan\n",
    "    return p"
   ]
  },
  {
   "cell_type": "code",
   "execution_count": 17,
   "metadata": {},
   "outputs": [
    {
     "name": "stdout",
     "output_type": "stream",
     "text": [
      "0.55 0.55 20 20\n"
     ]
    }
   ],
   "source": [
    "print precision(Ra, E), recall(Ra, E), len(Ra), len(E)"
   ]
  },
  {
   "cell_type": "code",
   "execution_count": 18,
   "metadata": {},
   "outputs": [
    {
     "name": "stdout",
     "output_type": "stream",
     "text": [
      "0.188118811881 0.95 101 20\n"
     ]
    }
   ],
   "source": [
    "print precision(Ro, E), recall(Ro, E), len(Ro), len(E)"
   ]
  },
  {
   "cell_type": "code",
   "execution_count": 19,
   "metadata": {},
   "outputs": [
    {
     "name": "stdout",
     "output_type": "stream",
     "text": [
      "[u'government', u'education']\n"
     ]
    }
   ],
   "source": [
    "print Qt"
   ]
  },
  {
   "cell_type": "code",
   "execution_count": null,
   "metadata": {},
   "outputs": [],
   "source": []
  }
 ],
 "metadata": {
  "kernelspec": {
   "display_name": "Python 2",
   "language": "python",
   "name": "python2"
  },
  "language_info": {
   "codemirror_mode": {
    "name": "ipython",
    "version": 2
   },
   "file_extension": ".py",
   "mimetype": "text/x-python",
   "name": "python",
   "nbconvert_exporter": "python",
   "pygments_lexer": "ipython2",
   "version": "2.7.14"
  }
 },
 "nbformat": 4,
 "nbformat_minor": 2
}
