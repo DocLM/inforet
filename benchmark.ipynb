{
 "cells": [
  {
   "cell_type": "code",
   "execution_count": null,
   "metadata": {},
   "outputs": [],
   "source": [
    "import wikipedia\n",
    "from collections import defaultdict\n",
    "import json\n",
    "import codecs\n",
    "import os"
   ]
  },
  {
   "cell_type": "code",
   "execution_count": null,
   "metadata": {},
   "outputs": [],
   "source": [
    "class Wikisearch(object):\n",
    "    \n",
    "    def __init__(self, out_folder, results=20):\n",
    "        self.folder = out_folder\n",
    "        self.results = results\n",
    "        self.queries = []\n",
    "        self.mapping = defaultdict(lambda: set())\n",
    "    \n",
    "    def search(self, query):\n",
    "        qi = len(self.queries)\n",
    "        self.queries.append(query)\n",
    "        results = wikipedia.search(query, results=self.results)\n",
    "        for result in results:\n",
    "            try:\n",
    "                page = wikipedia.page(result)\n",
    "                self.mapping[qi].add((page.pageid, page.url))\n",
    "            except wikipedia.exceptions.DisambiguationError as e:\n",
    "                for option in e.options:\n",
    "                    page = wikipedia.page(option)\n",
    "                    self.mapping[qi].add((page.pageid, page.url))\n",
    "    \n",
    "    def save(self, content=True):\n",
    "        \"\"\"\n",
    "        If content is set to False, gets page summary\n",
    "        \"\"\"\n",
    "        outdict = {}\n",
    "        for qi, qt in enumerate(self.queries):\n",
    "            pages = list(self.mapping[qi])\n",
    "            outdict[qi] = {'query': qt, 'page_ids': [x[0] for x in pages], \n",
    "                           'page_urls': [x[1] for x in pages]}\n",
    "            for page_id, page_url in pages:\n",
    "                page = wikipedia.page(pageid=page_id)\n",
    "                if content:\n",
    "                    text = page.content\n",
    "                else:\n",
    "                    text = page.summary\n",
    "                with codecs.open(os.sep.join([self.folder, page_id + '.txt']), 'wb', encoding='utf-8') as tout:\n",
    "                    tout.write(text)\n",
    "        with codecs.open(os.sep.join([self.folder, 'queries.json']), 'wb', encoding='utf-8') as jout:\n",
    "            json.dump(outdict, jout)\n",
    "                \n",
    "                "
   ]
  },
  {
   "cell_type": "code",
   "execution_count": null,
   "metadata": {},
   "outputs": [],
   "source": []
  }
 ],
 "metadata": {
  "kernelspec": {
   "display_name": "Python 2",
   "language": "python",
   "name": "python2"
  },
  "language_info": {
   "codemirror_mode": {
    "name": "ipython",
    "version": 2
   },
   "file_extension": ".py",
   "mimetype": "text/x-python",
   "name": "python",
   "nbconvert_exporter": "python",
   "pygments_lexer": "ipython2",
   "version": "2.7.14"
  }
 },
 "nbformat": 4,
 "nbformat_minor": 2
}
